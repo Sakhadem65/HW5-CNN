{
 "cells": [
  {
   "cell_type": "code",
   "execution_count": 1,
   "id": "experimental-accessory",
   "metadata": {},
   "outputs": [],
   "source": [
    "import torch\n",
    "import torch.nn as nn\n",
    "import numpy as np\n",
    "import torchvision\n",
    "from tqdm import tqdm\n",
    "import torch.nn.functional as F\n",
    "import torchvision.transforms as transforms\n",
    "from sklearn.model_selection import train_test_split\n",
    "import matplotlib.pyplot as plt\n"
   ]
  },
  {
   "cell_type": "code",
   "execution_count": 2,
   "id": "desperate-civilian",
   "metadata": {},
   "outputs": [],
   "source": [
    "#https://www.kaggle.com/paultimothymooney/predicting-idc-in-breast-cancer-histology-images/data?select=Y.npy"
   ]
  },
  {
   "cell_type": "code",
   "execution_count": 3,
   "id": "comprehensive-dakota",
   "metadata": {},
   "outputs": [],
   "source": [
    "train_batch_size = 16\n",
    "X = np.load('X.npy') # images\n",
    "Y = np.load('Y.npy') # labels associated to images (0 = no IDC, 1 = IDC)\n",
    "X = X.transpose((0, 3, 1, 2)) # (N, H, W, C) -> (N, C, H, W)\n",
    "X = X.astype(np.float32) / 255\n",
    "X_train, X_test, Y_train, Y_test = train_test_split(X, Y, test_size=0.2, random_state=1) \n",
    "X_train=torch.tensor(X_train)\n",
    "Y_train=torch.tensor(Y_train)\n",
    "X_test=torch.tensor(X_test)\n",
    "Y_test=torch.tensor(Y_test)\n",
    "train_dataloader = torch.utils.data.DataLoader(torch.utils.data.TensorDataset(X_train,Y_train), batch_size=train_batch_size)\n",
    "test_dataloader = torch.utils.data.DataLoader(torch.utils.data.TensorDataset(X_test,Y_test))"
   ]
  },
  {
   "cell_type": "code",
   "execution_count": 4,
   "id": "recorded-norfolk",
   "metadata": {},
   "outputs": [],
   "source": [
    "def flatten(x):\n",
    "    return x.reshape(x.shape[0], -1)\n",
    "\n",
    "class FirstNetwork(nn.Module):\n",
    "    \n",
    "    def __init__(self):\n",
    "        super(FirstNetwork, self).__init__()\n",
    "        self.first_layer = nn.Linear(7500, 256)\n",
    "        self.second_layer = nn.Linear(256, 2)\n",
    "        \n",
    "       \n",
    "    def forward(self, x):\n",
    "        o = flatten(x)\n",
    "        o = self.first_layer(o)\n",
    "        o = nn.functional.relu(o)\n",
    "        logits = self.second_layer(o)\n",
    "        return nn.functional.softmax(logits, dim=-1)\n",
    "    \n"
   ]
  },
  {
   "cell_type": "code",
   "execution_count": 5,
   "id": "binary-prairie",
   "metadata": {},
   "outputs": [],
   "source": [
    "class ConvNet(nn.Module):\n",
    "    \n",
    "    def __init__(self):\n",
    "        super(ConvNet, self).__init__()\n",
    "        self.first_conv = nn.Conv2d(3, 6, kernel_size=9, padding=3)  \n",
    "        self.MaxPool = nn.MaxPool2d(kernel_size=3, stride=3)\n",
    "        self.relu = nn.ReLU()\n",
    "        self.second_conv = nn.Conv2d(6, 6, kernel_size=3, padding=1)\n",
    "        self.final_layer = nn.Linear(150, 2)\n",
    "        \n",
    "    def forward(self, x):\n",
    "        first_result = self.relu(self.MaxPool(self.first_conv(x)))\n",
    "        #print(first_result.shape)\n",
    "        second_result = self.relu(self.MaxPool(self.second_conv(first_result)))\n",
    "        #print(second_result.shape) # (16, 6, 5, 5)\n",
    "        res = flatten(second_result) # (16, 150(=6x5x5))\n",
    "        logits = self.final_layer(res)\n",
    "        return nn.functional.softmax(logits, dim=-1)\n",
    "    \n",
    "def get_accuracy(net, test_dataloader):\n",
    "    total = 0\n",
    "    correct = 0\n",
    "    with torch.no_grad():\n",
    "        for X, y in tqdm(test_dataloader):\n",
    "            output = torch.argmax(net(X)[0])\n",
    "            if output == y:\n",
    "                correct += 1\n",
    "            total += 1\n",
    "        return correct / total"
   ]
  },
  {
   "cell_type": "code",
   "execution_count": 6,
   "id": "ceramic-bottle",
   "metadata": {},
   "outputs": [],
   "source": [
    "net = ConvNet() "
   ]
  },
  {
   "cell_type": "code",
   "execution_count": 7,
   "id": "absent-accountability",
   "metadata": {},
   "outputs": [],
   "source": [
    "optimizer = torch.optim.Adam(net.parameters(), lr=3e-5)\n",
    "losses = []"
   ]
  },
  {
   "cell_type": "code",
   "execution_count": 8,
   "id": "american-throat",
   "metadata": {},
   "outputs": [
    {
     "name": "stderr",
     "output_type": "stream",
     "text": [
      "100%|██████████| 278/278 [00:01<00:00, 179.83it/s]\n",
      "  8%|▊         | 21/278 [00:00<00:01, 204.43it/s]"
     ]
    },
    {
     "name": "stdout",
     "output_type": "stream",
     "text": [
      "Loss tensor(0.6948)\n"
     ]
    },
    {
     "name": "stderr",
     "output_type": "stream",
     "text": [
      "100%|██████████| 278/278 [00:01<00:00, 202.28it/s]\n",
      "  8%|▊         | 22/278 [00:00<00:01, 212.10it/s]"
     ]
    },
    {
     "name": "stdout",
     "output_type": "stream",
     "text": [
      "Loss tensor(0.6909)\n"
     ]
    },
    {
     "name": "stderr",
     "output_type": "stream",
     "text": [
      "100%|██████████| 278/278 [00:01<00:00, 207.09it/s]\n",
      "  7%|▋         | 20/278 [00:00<00:01, 198.55it/s]"
     ]
    },
    {
     "name": "stdout",
     "output_type": "stream",
     "text": [
      "Loss tensor(0.6898)\n"
     ]
    },
    {
     "name": "stderr",
     "output_type": "stream",
     "text": [
      "100%|██████████| 278/278 [00:01<00:00, 188.40it/s]\n",
      "  8%|▊         | 21/278 [00:00<00:01, 202.34it/s]"
     ]
    },
    {
     "name": "stdout",
     "output_type": "stream",
     "text": [
      "Loss tensor(0.6884)\n"
     ]
    },
    {
     "name": "stderr",
     "output_type": "stream",
     "text": [
      "100%|██████████| 278/278 [00:01<00:00, 211.33it/s]\n",
      "  9%|▊         | 24/278 [00:00<00:01, 230.82it/s]"
     ]
    },
    {
     "name": "stdout",
     "output_type": "stream",
     "text": [
      "Loss tensor(0.6866)\n"
     ]
    },
    {
     "name": "stderr",
     "output_type": "stream",
     "text": [
      "100%|██████████| 278/278 [00:01<00:00, 211.42it/s]\n",
      "  8%|▊         | 21/278 [00:00<00:01, 205.57it/s]"
     ]
    },
    {
     "name": "stdout",
     "output_type": "stream",
     "text": [
      "Loss tensor(0.6842)\n"
     ]
    },
    {
     "name": "stderr",
     "output_type": "stream",
     "text": [
      "100%|██████████| 278/278 [00:01<00:00, 194.58it/s]\n",
      "  8%|▊         | 22/278 [00:00<00:01, 214.16it/s]"
     ]
    },
    {
     "name": "stdout",
     "output_type": "stream",
     "text": [
      "Loss tensor(0.6812)\n"
     ]
    },
    {
     "name": "stderr",
     "output_type": "stream",
     "text": [
      "100%|██████████| 278/278 [00:01<00:00, 199.74it/s]\n",
      "  8%|▊         | 21/278 [00:00<00:01, 198.64it/s]"
     ]
    },
    {
     "name": "stdout",
     "output_type": "stream",
     "text": [
      "Loss tensor(0.6775)\n"
     ]
    },
    {
     "name": "stderr",
     "output_type": "stream",
     "text": [
      "100%|██████████| 278/278 [00:01<00:00, 199.39it/s]\n",
      " 15%|█▌        | 43/278 [00:00<00:01, 209.28it/s]"
     ]
    },
    {
     "name": "stdout",
     "output_type": "stream",
     "text": [
      "Loss tensor(0.6725)\n"
     ]
    },
    {
     "name": "stderr",
     "output_type": "stream",
     "text": [
      "100%|██████████| 278/278 [00:01<00:00, 208.95it/s]\n",
      "  8%|▊         | 22/278 [00:00<00:01, 206.53it/s]"
     ]
    },
    {
     "name": "stdout",
     "output_type": "stream",
     "text": [
      "Loss tensor(0.6638)\n"
     ]
    },
    {
     "name": "stderr",
     "output_type": "stream",
     "text": [
      "100%|██████████| 278/278 [00:01<00:00, 203.56it/s]\n",
      " 15%|█▍        | 41/278 [00:00<00:01, 190.50it/s]"
     ]
    },
    {
     "name": "stdout",
     "output_type": "stream",
     "text": [
      "Loss tensor(0.6535)\n"
     ]
    },
    {
     "name": "stderr",
     "output_type": "stream",
     "text": [
      "100%|██████████| 278/278 [00:01<00:00, 201.84it/s]\n",
      "  7%|▋         | 19/278 [00:00<00:01, 188.62it/s]"
     ]
    },
    {
     "name": "stdout",
     "output_type": "stream",
     "text": [
      "Loss tensor(0.6428)\n"
     ]
    },
    {
     "name": "stderr",
     "output_type": "stream",
     "text": [
      "100%|██████████| 278/278 [00:01<00:00, 169.66it/s]\n",
      " 11%|█         | 31/278 [00:00<00:01, 155.73it/s]"
     ]
    },
    {
     "name": "stdout",
     "output_type": "stream",
     "text": [
      "Loss tensor(0.6330)\n"
     ]
    },
    {
     "name": "stderr",
     "output_type": "stream",
     "text": [
      "100%|██████████| 278/278 [00:01<00:00, 174.95it/s]\n",
      " 13%|█▎        | 37/278 [00:00<00:01, 179.27it/s]"
     ]
    },
    {
     "name": "stdout",
     "output_type": "stream",
     "text": [
      "Loss tensor(0.6243)\n"
     ]
    },
    {
     "name": "stderr",
     "output_type": "stream",
     "text": [
      "100%|██████████| 278/278 [00:01<00:00, 166.12it/s]\n",
      "  6%|▌         | 17/278 [00:00<00:01, 160.80it/s]"
     ]
    },
    {
     "name": "stdout",
     "output_type": "stream",
     "text": [
      "Loss tensor(0.6169)\n"
     ]
    },
    {
     "name": "stderr",
     "output_type": "stream",
     "text": [
      "100%|██████████| 278/278 [00:01<00:00, 170.59it/s]\n",
      "  6%|▋         | 18/278 [00:00<00:01, 170.27it/s]"
     ]
    },
    {
     "name": "stdout",
     "output_type": "stream",
     "text": [
      "Loss tensor(0.6093)\n"
     ]
    },
    {
     "name": "stderr",
     "output_type": "stream",
     "text": [
      "100%|██████████| 278/278 [00:01<00:00, 175.64it/s]\n",
      " 13%|█▎        | 37/278 [00:00<00:01, 180.61it/s]"
     ]
    },
    {
     "name": "stdout",
     "output_type": "stream",
     "text": [
      "Loss tensor(0.5980)\n"
     ]
    },
    {
     "name": "stderr",
     "output_type": "stream",
     "text": [
      "100%|██████████| 278/278 [00:01<00:00, 176.82it/s]\n",
      "  6%|▋         | 18/278 [00:00<00:01, 176.95it/s]"
     ]
    },
    {
     "name": "stdout",
     "output_type": "stream",
     "text": [
      "Loss tensor(0.5924)\n"
     ]
    },
    {
     "name": "stderr",
     "output_type": "stream",
     "text": [
      "100%|██████████| 278/278 [00:01<00:00, 178.34it/s]\n",
      "  6%|▋         | 18/278 [00:00<00:01, 175.22it/s]"
     ]
    },
    {
     "name": "stdout",
     "output_type": "stream",
     "text": [
      "Loss tensor(0.5879)\n"
     ]
    },
    {
     "name": "stderr",
     "output_type": "stream",
     "text": [
      "100%|██████████| 278/278 [00:01<00:00, 161.03it/s]"
     ]
    },
    {
     "name": "stdout",
     "output_type": "stream",
     "text": [
      "Loss tensor(0.5840)\n"
     ]
    },
    {
     "name": "stderr",
     "output_type": "stream",
     "text": [
      "\n"
     ]
    }
   ],
   "source": [
    "epochs = 20\n",
    "for epoch in range(epochs):\n",
    "    total_loss = 0\n",
    "    batch_num = 0\n",
    "    for X, y in tqdm(train_dataloader):\n",
    "        optimizer.zero_grad()\n",
    "        output = net(X)\n",
    "        loss = torch.sum(-1 * torch.log(output.gather(1, y.reshape(-1, 1)))) / train_batch_size\n",
    "        loss.backward()\n",
    "        optimizer.step()\n",
    "        l = loss.detach()\n",
    "        total_loss += l\n",
    "        batch_num += 1\n",
    "        \n",
    "    print(\"Loss\", total_loss / batch_num)\n",
    "    losses.append(total_loss / batch_num)\n",
    "    "
   ]
  },
  {
   "cell_type": "code",
   "execution_count": 9,
   "id": "genuine-cardiff",
   "metadata": {},
   "outputs": [
    {
     "name": "stderr",
     "output_type": "stream",
     "text": [
      "100%|██████████| 1110/1110 [00:00<00:00, 1805.18it/s]\n"
     ]
    },
    {
     "data": {
      "text/plain": [
       "0.7036036036036036"
      ]
     },
     "execution_count": 9,
     "metadata": {},
     "output_type": "execute_result"
    }
   ],
   "source": [
    "get_accuracy(net, test_dataloader)"
   ]
  },
  {
   "cell_type": "code",
   "execution_count": 10,
   "id": "composed-earthquake",
   "metadata": {},
   "outputs": [
    {
     "data": {
      "text/plain": [
       "[<matplotlib.lines.Line2D at 0x20a6e627b80>]"
      ]
     },
     "execution_count": 10,
     "metadata": {},
     "output_type": "execute_result"
    },
    {
     "data": {
      "image/png": "[encoded data removed]",
      "text/plain": [
       "<Figure size 432x288 with 1 Axes>"
      ]
     },
     "metadata": {
      "needs_background": "light"
     },
     "output_type": "display_data"
    }
   ],
   "source": [
    "plt.plot(losses)"
   ]
  },
  {
   "cell_type": "code",
   "execution_count": 11,
   "id": "strong-compilation",
   "metadata": {},
   "outputs": [
    {
     "data": {
      "text/plain": [
       "tensor([[0.5492, 0.4508],\n",
       "        [0.4794, 0.5206],\n",
       "        [0.4730, 0.5270],\n",
       "        [0.4833, 0.5167],\n",
       "        [0.4613, 0.5387],\n",
       "        [0.7061, 0.2939]], grad_fn=<SoftmaxBackward>)"
      ]
     },
     "execution_count": 11,
     "metadata": {},
     "output_type": "execute_result"
    }
   ],
   "source": [
    "net(X_test[:6])\n",
    "#according to the website 0=ICD- and 1=ICD+\n",
    "#Here I run the code for the 6 first picture and where the second element is larger than the first element it's malignant\n",
    "#otherwise it's benign"
   ]
  }
 ],
 "metadata": {
  "kernelspec": {
   "display_name": "Python 3",
   "language": "python",
   "name": "python3"
  },
  "language_info": {
   "codemirror_mode": {
    "name": "ipython",
    "version": 3
   },
   "file_extension": ".py",
   "mimetype": "text/x-python",
   "name": "python",
   "nbconvert_exporter": "python",
   "pygments_lexer": "ipython3",
   "version": "3.8.5"
  }
 },
 "nbformat": 4,
 "nbformat_minor": 5
}
